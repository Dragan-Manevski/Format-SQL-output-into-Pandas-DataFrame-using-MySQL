{
 "cells": [
  {
   "cell_type": "markdown",
   "id": "f91c208c",
   "metadata": {},
   "source": [
    "### 1. Import the Library"
   ]
  },
  {
   "cell_type": "code",
   "execution_count": 1,
   "id": "04c158a8",
   "metadata": {},
   "outputs": [],
   "source": [
    "# Import Pandas library, MySQL Connector driver to connect Python script to the MySQL database, module’s Error class\n",
    "import pandas as pd\n",
    "import mysql.connector\n",
    "from mysql.connector import Error"
   ]
  },
  {
   "cell_type": "markdown",
   "id": "32f869ca",
   "metadata": {},
   "source": [
    "### 2. Create connection to Server"
   ]
  },
  {
   "cell_type": "code",
   "execution_count": 2,
   "id": "f2e20dcc",
   "metadata": {},
   "outputs": [],
   "source": [
    "# Function that connects to MySQL database server and returns the connection object\n",
    "def create_server_connection(host_name, user_name, db_pass):\n",
    "    connection = None\n",
    "    try:\n",
    "        connection = mysql.connector.connect(\n",
    "            host = host_name,\n",
    "            user = user_name,\n",
    "            password = db_pass\n",
    "        )\n",
    "        print(\"MySQL Database Server connection successful\")\n",
    "    except Error as err:\n",
    "        print(f\"The error '{err}' occurred\")\n",
    "    \n",
    "    return connection"
   ]
  },
  {
   "cell_type": "code",
   "execution_count": 3,
   "id": "37467201",
   "metadata": {},
   "outputs": [
    {
     "name": "stdout",
     "output_type": "stream",
     "text": [
      "MySQL Database Server connection successful\n"
     ]
    }
   ],
   "source": [
    "# Root password for MySQL Server\n",
    "db_pass = \"Dragan16**\"\n",
    "\n",
    "# Name of the created database\n",
    "db_name = \"mysql_orders\"\n",
    "\n",
    "# Create connection to MySQL Server\n",
    "connection = create_server_connection(\"localhost\", \"root\", db_pass)"
   ]
  },
  {
   "cell_type": "markdown",
   "id": "c71feb04",
   "metadata": {},
   "source": [
    "### 3. Create new Database"
   ]
  },
  {
   "cell_type": "code",
   "execution_count": 4,
   "id": "ab89eade",
   "metadata": {},
   "outputs": [],
   "source": [
    "# Function that creates MySQL database on server\n",
    "def create_database(connection, query):\n",
    "    cursor = connection.cursor()\n",
    "    try:\n",
    "        cursor.execute(query)\n",
    "        print(\"Database created successfully\")\n",
    "    except Error as err:\n",
    "        print(f\"The error '{err}' occurred\")"
   ]
  },
  {
   "cell_type": "code",
   "execution_count": 5,
   "id": "33aae4d6",
   "metadata": {},
   "outputs": [],
   "source": [
    "# Define MySQL query to create database\n",
    "create_database_query = \"CREATE DATABASE mysql_orders\""
   ]
  },
  {
   "cell_type": "code",
   "execution_count": 6,
   "id": "f14b202b",
   "metadata": {},
   "outputs": [
    {
     "name": "stdout",
     "output_type": "stream",
     "text": [
      "Database created successfully\n"
     ]
    }
   ],
   "source": [
    "# Call function that creates MySQL database on server\n",
    "create_database(connection, create_database_query)"
   ]
  },
  {
   "cell_type": "markdown",
   "id": "4da22540",
   "metadata": {},
   "source": [
    "### 4. Create connection to Database"
   ]
  },
  {
   "cell_type": "code",
   "execution_count": 7,
   "id": "a1b62a2f",
   "metadata": {},
   "outputs": [],
   "source": [
    "# Function that connects to created database in MySQL database server and returns the connection object\n",
    "def create_db_connection(host_name, user_name, db_pass, db_name):\n",
    "    connection = None\n",
    "    try:\n",
    "        connection = mysql.connector.connect(\n",
    "            host = host_name,\n",
    "            user = user_name,\n",
    "            password = db_pass,\n",
    "            database = db_name\n",
    "        )\n",
    "        print(\"MySQL Database connection successful\")\n",
    "    \n",
    "    except Error as err:\n",
    "        print(f\"The error '{err}' occurred\")\n",
    "        \n",
    "    return connection"
   ]
  },
  {
   "cell_type": "markdown",
   "id": "6ee96722",
   "metadata": {},
   "source": [
    "### 5. Execute SQL Query"
   ]
  },
  {
   "cell_type": "code",
   "execution_count": 8,
   "id": "85c13a67",
   "metadata": {},
   "outputs": [],
   "source": [
    "# Function that executes SQL query on MySQL database server\n",
    "def execute_query(connection, query):\n",
    "    cursor = connection.cursor()\n",
    "    try:\n",
    "        cursor.execute(query)\n",
    "        connection.commit()\n",
    "        print(\"Query executed successfully\")\n",
    "    except Error as err:\n",
    "        print(f\"The error '{err}' occurred\")"
   ]
  },
  {
   "cell_type": "markdown",
   "id": "6bd2dae6",
   "metadata": {},
   "source": [
    "### 6. Create Table"
   ]
  },
  {
   "cell_type": "code",
   "execution_count": 9,
   "id": "1e3de8a4",
   "metadata": {},
   "outputs": [],
   "source": [
    "# Create table into database\n",
    "create_orders_table = \"\"\"\n",
    "CREATE TABLE IF NOT EXISTS orders(\n",
    "    order_id INT PRIMARY KEY,\n",
    "    customer_name VARCHAR(30) NOT NULL,\n",
    "    product_name VARCHAR(30) NOT NULL,\n",
    "    date_ordered DATE,\n",
    "    quantity INT,\n",
    "    unit_price FLOAT,\n",
    "    phone_number VARCHAR(20)\n",
    ");\n",
    "\"\"\""
   ]
  },
  {
   "cell_type": "code",
   "execution_count": 10,
   "id": "9a8c8a1d",
   "metadata": {},
   "outputs": [
    {
     "name": "stdout",
     "output_type": "stream",
     "text": [
      "MySQL Database connection successful\n",
      "Query executed successfully\n"
     ]
    }
   ],
   "source": [
    "# Create connection to MySQL database\n",
    "connection = create_db_connection(\"localhost\", \"root\", db_pass, db_name)\n",
    "\n",
    "# Execute MySQL query\n",
    "execute_query(connection, create_orders_table)"
   ]
  },
  {
   "cell_type": "markdown",
   "id": "7b951641",
   "metadata": {},
   "source": [
    "### 7. Insert Records"
   ]
  },
  {
   "cell_type": "code",
   "execution_count": 11,
   "id": "6aa05417",
   "metadata": {},
   "outputs": [],
   "source": [
    "# Insert data into column of table\n",
    "insert_orders = \"\"\"\n",
    "INSERT INTO orders (order_id, customer_name, product_name, date_ordered, quantity, unit_price, phone_number)\n",
    "VALUES (101, 'Steve', 'Laptop', '2018-06-12', 2, 800, '6293720802'),\n",
    "       (102, 'Josh', 'Books', '2019-02-10', 10, 12, '549398403'),\n",
    "       (103, 'Stacy', 'Trousers', '2019-12-25', 5, 50, '2537498020'),\n",
    "       (104, 'Nancy', 'T-Shirts', '2018-07-14', 7, 30, '9868850623'),\n",
    "       (105, 'Maria', 'Headphones', '2019-05-30', 6, 48, '857379648'),\n",
    "       (106, 'Danny', 'Smart TV', '2018-08-20', 10, 300, '847473729');\n",
    "\"\"\""
   ]
  },
  {
   "cell_type": "code",
   "execution_count": 12,
   "id": "a87620c0",
   "metadata": {},
   "outputs": [
    {
     "name": "stdout",
     "output_type": "stream",
     "text": [
      "MySQL Database connection successful\n",
      "Query executed successfully\n"
     ]
    }
   ],
   "source": [
    "# Create connection to MySQL database\n",
    "connection = create_db_connection(\"localhost\", \"root\", db_pass, db_name)\n",
    "\n",
    "# Execute MySQL query\n",
    "execute_query(connection, insert_orders)"
   ]
  },
  {
   "cell_type": "markdown",
   "id": "4812654d",
   "metadata": {},
   "source": [
    "### 8. Read Query"
   ]
  },
  {
   "cell_type": "code",
   "execution_count": 13,
   "id": "3ae9c42e",
   "metadata": {},
   "outputs": [],
   "source": [
    "# Function that select (read) records records\n",
    "def read_query(connection, query):\n",
    "    cursor = connection.cursor()\n",
    "    result = None\n",
    "    try:\n",
    "        cursor.execute(query)\n",
    "        result = cursor.fetchall()\n",
    "        return result\n",
    "    except Error as err:\n",
    "        print(f\"The error '{err}' occurred\")"
   ]
  },
  {
   "cell_type": "markdown",
   "id": "2cdbaa21",
   "metadata": {},
   "source": [
    "### 9. Select (Read) Records"
   ]
  },
  {
   "cell_type": "code",
   "execution_count": 14,
   "id": "0ed47a72",
   "metadata": {},
   "outputs": [],
   "source": [
    "# Select (Read) records from MySQL table\n",
    "select_orders = \"\"\"\n",
    "SELECT *\n",
    "FROM orders\n",
    "\"\"\""
   ]
  },
  {
   "cell_type": "code",
   "execution_count": 15,
   "id": "cedddce1",
   "metadata": {},
   "outputs": [
    {
     "name": "stdout",
     "output_type": "stream",
     "text": [
      "MySQL Database connection successful\n",
      "(101, 'Steve', 'Laptop', datetime.date(2018, 6, 12), 2, 800.0, '6293720802')\n",
      "(102, 'Josh', 'Books', datetime.date(2019, 2, 10), 10, 12.0, '549398403')\n",
      "(103, 'Stacy', 'Trousers', datetime.date(2019, 12, 25), 5, 50.0, '2537498020')\n",
      "(104, 'Nancy', 'T-Shirts', datetime.date(2018, 7, 14), 7, 30.0, '9868850623')\n",
      "(105, 'Maria', 'Headphones', datetime.date(2019, 5, 30), 6, 48.0, '857379648')\n",
      "(106, 'Danny', 'Smart TV', datetime.date(2018, 8, 20), 10, 300.0, '847473729')\n"
     ]
    }
   ],
   "source": [
    "# Create connection to MySQL database\n",
    "connection = create_db_connection(\"localhost\", \"root\", db_pass, db_name)\n",
    "\n",
    "# Execute read query\n",
    "results = read_query(connection, select_orders)\n",
    "\n",
    "for result in results:\n",
    "    print(result)"
   ]
  },
  {
   "cell_type": "code",
   "execution_count": 16,
   "id": "daa27d5a",
   "metadata": {},
   "outputs": [],
   "source": [
    "# Select (Read) records from MySQL table\n",
    "select_orders = \"\"\"\n",
    "SELECT *\n",
    "FROM orders\n",
    "WHERE date_ordered < '2018-12-31'\n",
    "\"\"\""
   ]
  },
  {
   "cell_type": "code",
   "execution_count": 17,
   "id": "54b39b1b",
   "metadata": {},
   "outputs": [
    {
     "name": "stdout",
     "output_type": "stream",
     "text": [
      "MySQL Database connection successful\n",
      "(101, 'Steve', 'Laptop', datetime.date(2018, 6, 12), 2, 800.0, '6293720802')\n",
      "(104, 'Nancy', 'T-Shirts', datetime.date(2018, 7, 14), 7, 30.0, '9868850623')\n",
      "(106, 'Danny', 'Smart TV', datetime.date(2018, 8, 20), 10, 300.0, '847473729')\n"
     ]
    }
   ],
   "source": [
    "# Create connection to MySQL database\n",
    "connection = create_db_connection(\"localhost\", \"root\", db_pass, db_name)\n",
    "\n",
    "# Execute read query\n",
    "results = read_query(connection, select_orders)\n",
    "\n",
    "for result in results:\n",
    "    print(result)"
   ]
  },
  {
   "cell_type": "code",
   "execution_count": 18,
   "id": "b7806817",
   "metadata": {},
   "outputs": [],
   "source": [
    "# Select (Read) records from MySQL table\n",
    "select_orders = \"\"\"\n",
    "SELECT customer_name, phone_number\n",
    "FROM orders\n",
    "ORDER BY unit_price DESC\n",
    "\"\"\""
   ]
  },
  {
   "cell_type": "code",
   "execution_count": 19,
   "id": "716ee208",
   "metadata": {},
   "outputs": [
    {
     "name": "stdout",
     "output_type": "stream",
     "text": [
      "MySQL Database connection successful\n",
      "('Steve', '6293720802')\n",
      "('Danny', '847473729')\n",
      "('Stacy', '2537498020')\n",
      "('Maria', '857379648')\n",
      "('Nancy', '9868850623')\n",
      "('Josh', '549398403')\n"
     ]
    }
   ],
   "source": [
    "# Create connection to MySQL database\n",
    "connection = create_db_connection(\"localhost\", \"root\", db_pass, db_name)\n",
    "\n",
    "# Execute read query\n",
    "results = read_query(connection, select_orders)\n",
    "\n",
    "for result in results:\n",
    "    print(result)"
   ]
  },
  {
   "cell_type": "markdown",
   "id": "6d18a754",
   "metadata": {},
   "source": [
    "### 10. Update Records"
   ]
  },
  {
   "cell_type": "code",
   "execution_count": 20,
   "id": "6cddcd3b",
   "metadata": {},
   "outputs": [],
   "source": [
    "# Update table\n",
    "update_orders = \"\"\"\n",
    "UPDATE orders\n",
    "SET unit_price = 45\n",
    "WHERE order_id=103\n",
    "\"\"\""
   ]
  },
  {
   "cell_type": "code",
   "execution_count": 21,
   "id": "025c411b",
   "metadata": {},
   "outputs": [
    {
     "name": "stdout",
     "output_type": "stream",
     "text": [
      "MySQL Database connection successful\n",
      "Query executed successfully\n"
     ]
    }
   ],
   "source": [
    "# Create connection to MySQL database\n",
    "connection = create_db_connection(\"localhost\", \"root\", db_pass, db_name)\n",
    "\n",
    "# Execute query\n",
    "execute_query(connection, update_orders)"
   ]
  },
  {
   "cell_type": "code",
   "execution_count": 22,
   "id": "66f7fe34",
   "metadata": {},
   "outputs": [],
   "source": [
    "# Select (Read) records from MySQL table\n",
    "select_orders = \"\"\"\n",
    "SELECT *\n",
    "FROM orders\n",
    "\"\"\""
   ]
  },
  {
   "cell_type": "code",
   "execution_count": 23,
   "id": "47b3983a",
   "metadata": {},
   "outputs": [
    {
     "name": "stdout",
     "output_type": "stream",
     "text": [
      "MySQL Database connection successful\n",
      "(101, 'Steve', 'Laptop', datetime.date(2018, 6, 12), 2, 800.0, '6293720802')\n",
      "(102, 'Josh', 'Books', datetime.date(2019, 2, 10), 10, 12.0, '549398403')\n",
      "(103, 'Stacy', 'Trousers', datetime.date(2019, 12, 25), 5, 45.0, '2537498020')\n",
      "(104, 'Nancy', 'T-Shirts', datetime.date(2018, 7, 14), 7, 30.0, '9868850623')\n",
      "(105, 'Maria', 'Headphones', datetime.date(2019, 5, 30), 6, 48.0, '857379648')\n",
      "(106, 'Danny', 'Smart TV', datetime.date(2018, 8, 20), 10, 300.0, '847473729')\n"
     ]
    }
   ],
   "source": [
    "# Create connection to MySQL database\n",
    "connection = create_db_connection(\"localhost\", \"root\", db_pass, db_name)\n",
    "\n",
    "# Execute read query\n",
    "results = read_query(connection, select_orders)\n",
    "\n",
    "for result in results:\n",
    "    print(result)"
   ]
  },
  {
   "cell_type": "markdown",
   "id": "6a49a86f",
   "metadata": {},
   "source": [
    "### 11. Delete Records"
   ]
  },
  {
   "cell_type": "code",
   "execution_count": 24,
   "id": "bca123c8",
   "metadata": {},
   "outputs": [],
   "source": [
    "# Delete row from table\n",
    "delete_orders = \"\"\"\n",
    "DELETE FROM orders\n",
    "WHERE order_id = 105\n",
    "\"\"\""
   ]
  },
  {
   "cell_type": "code",
   "execution_count": 25,
   "id": "25be3906",
   "metadata": {},
   "outputs": [
    {
     "name": "stdout",
     "output_type": "stream",
     "text": [
      "MySQL Database connection successful\n",
      "Query executed successfully\n"
     ]
    }
   ],
   "source": [
    "# Create connection to MySQL database\n",
    "connection = create_db_connection(\"localhost\", \"root\", db_pass, db_name)\n",
    "\n",
    "# Execute query\n",
    "execute_query(connection, delete_orders)"
   ]
  },
  {
   "cell_type": "code",
   "execution_count": 26,
   "id": "f797443f",
   "metadata": {},
   "outputs": [],
   "source": [
    "# Select (Read) records from MySQL table\n",
    "select_orders = \"\"\"\n",
    "SELECT *\n",
    "FROM orders\n",
    "\"\"\""
   ]
  },
  {
   "cell_type": "code",
   "execution_count": 27,
   "id": "5a00bb71",
   "metadata": {},
   "outputs": [
    {
     "name": "stdout",
     "output_type": "stream",
     "text": [
      "MySQL Database connection successful\n",
      "(101, 'Steve', 'Laptop', datetime.date(2018, 6, 12), 2, 800.0, '6293720802')\n",
      "(102, 'Josh', 'Books', datetime.date(2019, 2, 10), 10, 12.0, '549398403')\n",
      "(103, 'Stacy', 'Trousers', datetime.date(2019, 12, 25), 5, 45.0, '2537498020')\n",
      "(104, 'Nancy', 'T-Shirts', datetime.date(2018, 7, 14), 7, 30.0, '9868850623')\n",
      "(106, 'Danny', 'Smart TV', datetime.date(2018, 8, 20), 10, 300.0, '847473729')\n"
     ]
    }
   ],
   "source": [
    "# Create connection to MySQL database\n",
    "connection = create_db_connection(\"localhost\", \"root\", db_pass, db_name)\n",
    "\n",
    "# Execute read query\n",
    "results = read_query(connection, select_orders)\n",
    "\n",
    "for result in results:\n",
    "    print(result)"
   ]
  },
  {
   "cell_type": "markdown",
   "id": "34fea1d3",
   "metadata": {},
   "source": [
    "### 12. Format output into Pandas DataFrame"
   ]
  },
  {
   "cell_type": "code",
   "execution_count": 28,
   "id": "0514cef5",
   "metadata": {},
   "outputs": [],
   "source": [
    "# Create empty list\n",
    "output_db = []\n",
    "\n",
    "# Loop over the results\n",
    "for result in results:\n",
    "    result = list(result)\n",
    "    output_db.append(result)"
   ]
  },
  {
   "cell_type": "code",
   "execution_count": 29,
   "id": "cf800fea",
   "metadata": {},
   "outputs": [],
   "source": [
    "# Column names\n",
    "columns = [\"order_id\", \"customer_name\", \"product_name\", \"date_ordered\", \"quantity\", \"unit_price\", \"phone_number\"]\n",
    "\n",
    "# Create Pandas DataFrame from database (SQL query) output\n",
    "df = pd.DataFrame(output_db, columns = columns)"
   ]
  },
  {
   "cell_type": "code",
   "execution_count": 30,
   "id": "87735939",
   "metadata": {},
   "outputs": [
    {
     "data": {
      "text/html": [
       "<div>\n",
       "<style scoped>\n",
       "    .dataframe tbody tr th:only-of-type {\n",
       "        vertical-align: middle;\n",
       "    }\n",
       "\n",
       "    .dataframe tbody tr th {\n",
       "        vertical-align: top;\n",
       "    }\n",
       "\n",
       "    .dataframe thead th {\n",
       "        text-align: right;\n",
       "    }\n",
       "</style>\n",
       "<table border=\"1\" class=\"dataframe\">\n",
       "  <thead>\n",
       "    <tr style=\"text-align: right;\">\n",
       "      <th></th>\n",
       "      <th>order_id</th>\n",
       "      <th>customer_name</th>\n",
       "      <th>product_name</th>\n",
       "      <th>date_ordered</th>\n",
       "      <th>quantity</th>\n",
       "      <th>unit_price</th>\n",
       "      <th>phone_number</th>\n",
       "    </tr>\n",
       "  </thead>\n",
       "  <tbody>\n",
       "    <tr>\n",
       "      <th>0</th>\n",
       "      <td>101</td>\n",
       "      <td>Steve</td>\n",
       "      <td>Laptop</td>\n",
       "      <td>2018-06-12</td>\n",
       "      <td>2</td>\n",
       "      <td>800.0</td>\n",
       "      <td>6293720802</td>\n",
       "    </tr>\n",
       "    <tr>\n",
       "      <th>1</th>\n",
       "      <td>102</td>\n",
       "      <td>Josh</td>\n",
       "      <td>Books</td>\n",
       "      <td>2019-02-10</td>\n",
       "      <td>10</td>\n",
       "      <td>12.0</td>\n",
       "      <td>549398403</td>\n",
       "    </tr>\n",
       "    <tr>\n",
       "      <th>2</th>\n",
       "      <td>103</td>\n",
       "      <td>Stacy</td>\n",
       "      <td>Trousers</td>\n",
       "      <td>2019-12-25</td>\n",
       "      <td>5</td>\n",
       "      <td>45.0</td>\n",
       "      <td>2537498020</td>\n",
       "    </tr>\n",
       "    <tr>\n",
       "      <th>3</th>\n",
       "      <td>104</td>\n",
       "      <td>Nancy</td>\n",
       "      <td>T-Shirts</td>\n",
       "      <td>2018-07-14</td>\n",
       "      <td>7</td>\n",
       "      <td>30.0</td>\n",
       "      <td>9868850623</td>\n",
       "    </tr>\n",
       "    <tr>\n",
       "      <th>4</th>\n",
       "      <td>106</td>\n",
       "      <td>Danny</td>\n",
       "      <td>Smart TV</td>\n",
       "      <td>2018-08-20</td>\n",
       "      <td>10</td>\n",
       "      <td>300.0</td>\n",
       "      <td>847473729</td>\n",
       "    </tr>\n",
       "  </tbody>\n",
       "</table>\n",
       "</div>"
      ],
      "text/plain": [
       "   order_id customer_name product_name date_ordered  quantity  unit_price  \\\n",
       "0       101         Steve       Laptop   2018-06-12         2       800.0   \n",
       "1       102          Josh        Books   2019-02-10        10        12.0   \n",
       "2       103         Stacy     Trousers   2019-12-25         5        45.0   \n",
       "3       104         Nancy     T-Shirts   2018-07-14         7        30.0   \n",
       "4       106         Danny     Smart TV   2018-08-20        10       300.0   \n",
       "\n",
       "  phone_number  \n",
       "0   6293720802  \n",
       "1    549398403  \n",
       "2   2537498020  \n",
       "3   9868850623  \n",
       "4    847473729  "
      ]
     },
     "execution_count": 30,
     "metadata": {},
     "output_type": "execute_result"
    }
   ],
   "source": [
    "# Display the few top rows of Pandas DataFrame\n",
    "df.head()"
   ]
  },
  {
   "cell_type": "markdown",
   "id": "438f5f4c",
   "metadata": {},
   "source": [
    "### 13. Drop Database"
   ]
  },
  {
   "cell_type": "code",
   "execution_count": 31,
   "id": "6b37030d",
   "metadata": {},
   "outputs": [],
   "source": [
    "# Remove created database\n",
    "remove_orders_database = \"\"\"\n",
    "DROP DATABASE mysql_orders\n",
    "\"\"\""
   ]
  },
  {
   "cell_type": "code",
   "execution_count": 32,
   "id": "64bd1c14",
   "metadata": {},
   "outputs": [
    {
     "name": "stdout",
     "output_type": "stream",
     "text": [
      "MySQL Database connection successful\n"
     ]
    }
   ],
   "source": [
    "# Create connection to MySQL database\n",
    "connection = create_db_connection(\"localhost\", \"root\", db_pass, db_name)\n",
    "\n",
    "# Execute read query\n",
    "results = read_query(connection, remove_orders_database)"
   ]
  }
 ],
 "metadata": {
  "kernelspec": {
   "display_name": "Python 3 (ipykernel)",
   "language": "python",
   "name": "python3"
  },
  "language_info": {
   "codemirror_mode": {
    "name": "ipython",
    "version": 3
   },
   "file_extension": ".py",
   "mimetype": "text/x-python",
   "name": "python",
   "nbconvert_exporter": "python",
   "pygments_lexer": "ipython3",
   "version": "3.7.3"
  }
 },
 "nbformat": 4,
 "nbformat_minor": 5
}
